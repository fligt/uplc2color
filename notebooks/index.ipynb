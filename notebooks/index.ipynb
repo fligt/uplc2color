{
 "cells": [
  {
   "cell_type": "markdown",
   "metadata": {},
   "source": [
    "# Welcome to uplc2color \n",
    "\n",
    "> A python package to convert chromatography absorbance data into color   "
   ]
  },
  {
   "cell_type": "markdown",
   "metadata": {},
   "source": [
    "More content here soon! "
   ]
  }
 ],
 "metadata": {
  "kernelspec": {
   "display_name": "Python 3",
   "language": "python",
   "name": "python3"
  }
 },
 "nbformat": 4,
 "nbformat_minor": 2
}
